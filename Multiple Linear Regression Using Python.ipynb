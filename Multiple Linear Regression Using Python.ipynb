{
 "cells": [
  {
   "cell_type": "code",
   "execution_count": 4,
   "id": "77638e9d",
   "metadata": {},
   "outputs": [],
   "source": [
    "#Implementing the Multiple Linear Regression Algorithm using python and numpy library"
   ]
  },
  {
   "cell_type": "code",
   "execution_count": 8,
   "id": "b9b81e3c",
   "metadata": {},
   "outputs": [],
   "source": [
    "import numpy as np\n",
    "import matplotlib.pyplot as plt"
   ]
  },
  {
   "cell_type": "code",
   "execution_count": 25,
   "id": "e74240ab",
   "metadata": {
    "scrolled": true
   },
   "outputs": [
    {
     "name": "stdout",
     "output_type": "stream",
     "text": [
      "[[2104    5    1   45]\n",
      " [1416    3    2   40]\n",
      " [ 852    2    1   35]]\n",
      "[460 232 178]\n"
     ]
    },
    {
     "data": {
      "text/plain": [
       "(3, 4)"
      ]
     },
     "execution_count": 25,
     "metadata": {},
     "output_type": "execute_result"
    }
   ],
   "source": [
    "X_train = np.array([[2104, 5, 1, 45], [1416, 3, 2, 40], [852, 2, 1, 35]])\n",
    "y_train = np.array([460, 232, 178])\n",
    "print(X_train)\n",
    "print(y_train)\n",
    "X_train.shape"
   ]
  },
  {
   "cell_type": "code",
   "execution_count": 26,
   "id": "7b9ce9e6",
   "metadata": {},
   "outputs": [],
   "source": [
    "def compute_gradient_descent_summation_part(X,y,w,b):\n",
    "    m,n = X.shape\n",
    "    #m number of examples and n is number of features\n",
    "    w_temp = np.zeros((n,)) #weights\n",
    "    b_temp = 0 #bias\n",
    "    for i in range(m):\n",
    "        err = (np.dot(X[i],w)+b) - y[i]\n",
    "        for j in range(n):\n",
    "            w_temp[j] = w_temp[j] + err* X[i,j]\n",
    "        b_temp += err\n",
    "    w_temp = w_temp/m\n",
    "    b_temp = b_temp/m\n",
    "    \n",
    "    return w_temp,b_temp\n"
   ]
  },
  {
   "cell_type": "code",
   "execution_count": 27,
   "id": "7b2a22dc",
   "metadata": {},
   "outputs": [],
   "source": [
    "def gradient_descent(X,y,w,b,iterations,alpha):\n",
    "    for i in range(iterations):\n",
    "        w_temp,b_temp = compute_gradient_descent_summation_part(X,y,w,b)\n",
    "        w = w - alpha * w_temp\n",
    "        b = b - alpha * b_temp\n",
    "    return w,b\n",
    "    \n",
    "    "
   ]
  },
  {
   "cell_type": "code",
   "execution_count": 40,
   "id": "0b825c15",
   "metadata": {},
   "outputs": [],
   "source": [
    "w_init = np.zeros(X_train.shape[1])\n",
    "b_init = 0.\n",
    "w_final,b_final = gradient_descent(X_train,y_train,w_init,b_init,1000,5.0e-7)"
   ]
  },
  {
   "cell_type": "code",
   "execution_count": 41,
   "id": "dac28e88",
   "metadata": {},
   "outputs": [
    {
     "data": {
      "text/plain": [
       "(array([ 0.20396569,  0.00374919, -0.0112487 , -0.0658614 ]),\n",
       " -0.0022354075309325345)"
      ]
     },
     "execution_count": 41,
     "metadata": {},
     "output_type": "execute_result"
    }
   ],
   "source": [
    "w_final,b_final"
   ]
  },
  {
   "cell_type": "code",
   "execution_count": 43,
   "id": "4dd15068",
   "metadata": {},
   "outputs": [
    {
     "name": "stdout",
     "output_type": "stream",
     "text": [
      "prediction: 426.19, target value: 460\n",
      "prediction: 286.17, target value: 232\n",
      "prediction: 171.47, target value: 178\n"
     ]
    }
   ],
   "source": [
    "m,_ = X_train.shape\n",
    "for i in range(m):\n",
    "    print(f\"prediction: {np.dot(X_train[i], w_final) + b_final:0.2f}, target value: {y_train[i]}\")"
   ]
  },
  {
   "cell_type": "code",
   "execution_count": null,
   "id": "ed830917",
   "metadata": {},
   "outputs": [],
   "source": []
  }
 ],
 "metadata": {
  "kernelspec": {
   "display_name": "Python 3 (ipykernel)",
   "language": "python",
   "name": "python3"
  },
  "language_info": {
   "codemirror_mode": {
    "name": "ipython",
    "version": 3
   },
   "file_extension": ".py",
   "mimetype": "text/x-python",
   "name": "python",
   "nbconvert_exporter": "python",
   "pygments_lexer": "ipython3",
   "version": "3.9.13"
  }
 },
 "nbformat": 4,
 "nbformat_minor": 5
}
